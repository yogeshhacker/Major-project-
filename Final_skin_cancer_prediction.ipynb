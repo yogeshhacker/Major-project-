{
  "cells": [
    {
      "cell_type": "markdown",
      "id": "4d7a69fc",
      "metadata": {
        "papermill": {
          "duration": 0.010008,
          "end_time": "2023-08-20T09:48:38.387499",
          "exception": false,
          "start_time": "2023-08-20T09:48:38.377491",
          "status": "completed"
        },
        "tags": [],
        "id": "4d7a69fc"
      },
      "source": [
        "# Import needed libraries"
      ]
    },
    {
      "cell_type": "code",
      "execution_count": null,
      "id": "8b70c14a",
      "metadata": {
        "execution": {
          "iopub.execute_input": "2023-08-20T09:48:38.409156Z",
          "iopub.status.busy": "2023-08-20T09:48:38.408329Z",
          "iopub.status.idle": "2023-08-20T09:48:47.746382Z",
          "shell.execute_reply": "2023-08-20T09:48:47.744189Z"
        },
        "papermill": {
          "duration": 9.351503,
          "end_time": "2023-08-20T09:48:47.748653",
          "exception": false,
          "start_time": "2023-08-20T09:48:38.397150",
          "status": "completed"
        },
        "tags": [],
        "colab": {
          "base_uri": "https://localhost:8080/"
        },
        "id": "8b70c14a",
        "outputId": "025f2d59-c9c4-4f47-fba9-449ba93073c0"
      },
      "outputs": [
        {
          "output_type": "stream",
          "name": "stdout",
          "text": [
            "modules loaded\n"
          ]
        }
      ],
      "source": [
        "# import system libs\n",
        "import os\n",
        "import time\n",
        "import shutil\n",
        "import itertools\n",
        "\n",
        "# import data handling tools\n",
        "import cv2\n",
        "import numpy as np\n",
        "import pandas as pd\n",
        "import seaborn as sns\n",
        "sns.set_style('darkgrid')\n",
        "import matplotlib.pyplot as plt\n",
        "# import Deep learning Libraries\n",
        "import tensorflow as tf\n",
        "from tensorflow import keras\n",
        "from tensorflow.keras.layers import Conv2D, MaxPooling2D, Flatten, Dense, Activation, Dropout, BatchNormalization\n",
        "from tensorflow.keras.models import Model, load_model, Sequential\n",
        "from tensorflow.keras.preprocessing.image import ImageDataGenerator\n",
        "from sklearn.metrics import confusion_matrix, classification_report\n",
        "from sklearn.model_selection import train_test_split\n",
        "from tensorflow.keras.optimizers import Adam, Adamax\n",
        "from tensorflow.keras import regularizers\n",
        "from tensorflow.keras.metrics import categorical_crossentropy\n",
        "\n",
        "# Ignore Warnings\n",
        "import warnings\n",
        "warnings.filterwarnings(\"ignore\")\n",
        "\n",
        "print ('modules loaded')\n"
      ]
    },
    {
      "cell_type": "markdown",
      "id": "ca0b0cc6",
      "metadata": {
        "papermill": {
          "duration": 0.009033,
          "end_time": "2023-08-20T09:48:47.767904",
          "exception": false,
          "start_time": "2023-08-20T09:48:47.758871",
          "status": "completed"
        },
        "tags": [],
        "id": "ca0b0cc6"
      },
      "source": [
        "# Read data"
      ]
    },
    {
      "cell_type": "code",
      "execution_count": null,
      "id": "a71d491d",
      "metadata": {
        "execution": {
          "iopub.execute_input": "2023-08-20T09:48:47.788946Z",
          "iopub.status.busy": "2023-08-20T09:48:47.787061Z",
          "iopub.status.idle": "2023-08-20T09:48:52.224422Z",
          "shell.execute_reply": "2023-08-20T09:48:52.223425Z"
        },
        "papermill": {
          "duration": 4.449875,
          "end_time": "2023-08-20T09:48:52.226926",
          "exception": false,
          "start_time": "2023-08-20T09:48:47.777051",
          "status": "completed"
        },
        "tags": [],
        "colab": {
          "base_uri": "https://localhost:8080/"
        },
        "id": "a71d491d",
        "outputId": "1abea950-b930-40e7-bac0-8383da96d341"
      },
      "outputs": [
        {
          "output_type": "stream",
          "name": "stdout",
          "text": [
            "Mounted at /content/drive\n"
          ]
        }
      ],
      "source": [
        "from google.colab import drive\n",
        "drive.mount('/content/drive')"
      ]
    },
    {
      "cell_type": "code",
      "source": [
        "data_dir = '/content/drive/MyDrive/Cancer/ham1000isic/hmnist_28_28_RGB.csv'\n",
        "data = pd.read_csv(data_dir)\n",
        "data.head()"
      ],
      "metadata": {
        "colab": {
          "base_uri": "https://localhost:8080/",
          "height": 255
        },
        "id": "PnsV0ExNsx5R",
        "outputId": "44a57d77-7ec5-4d4e-d7fc-fef9eb9761eb"
      },
      "id": "PnsV0ExNsx5R",
      "execution_count": null,
      "outputs": [
        {
          "output_type": "execute_result",
          "data": {
            "text/plain": [
              "   pixel0000  pixel0001  pixel0002  pixel0003  pixel0004  pixel0005  \\\n",
              "0        192        153        193        195        155        192   \n",
              "1         25         14         30         68         48         75   \n",
              "2        192        138        153        200        145        163   \n",
              "3         38         19         30         95         59         72   \n",
              "4        158        113        139        194        144        174   \n",
              "\n",
              "   pixel0006  pixel0007  pixel0008  pixel0009  ...  pixel2343  pixel2344  \\\n",
              "0        197        154        185        202  ...        173        124   \n",
              "1        123         93        126        158  ...         60         39   \n",
              "2        201        142        160        206  ...        167        129   \n",
              "3        143        103        119        171  ...         44         26   \n",
              "4        215        162        191        225  ...        209        166   \n",
              "\n",
              "   pixel2345  pixel2346  pixel2347  pixel2348  pixel2349  pixel2350  \\\n",
              "0        138        183        147        166        185        154   \n",
              "1         55         25         14         28         25         14   \n",
              "2        143        159        124        142        136        104   \n",
              "3         36         25         12         17         25         12   \n",
              "4        185        172        135        149        109         78   \n",
              "\n",
              "   pixel2351  label  \n",
              "0        177      2  \n",
              "1         27      2  \n",
              "2        117      2  \n",
              "3         15      2  \n",
              "4         92      2  \n",
              "\n",
              "[5 rows x 2353 columns]"
            ],
            "text/html": [
              "\n",
              "  <div id=\"df-80ee3a83-b42f-438d-aff8-dda08e91c905\" class=\"colab-df-container\">\n",
              "    <div>\n",
              "<style scoped>\n",
              "    .dataframe tbody tr th:only-of-type {\n",
              "        vertical-align: middle;\n",
              "    }\n",
              "\n",
              "    .dataframe tbody tr th {\n",
              "        vertical-align: top;\n",
              "    }\n",
              "\n",
              "    .dataframe thead th {\n",
              "        text-align: right;\n",
              "    }\n",
              "</style>\n",
              "<table border=\"1\" class=\"dataframe\">\n",
              "  <thead>\n",
              "    <tr style=\"text-align: right;\">\n",
              "      <th></th>\n",
              "      <th>pixel0000</th>\n",
              "      <th>pixel0001</th>\n",
              "      <th>pixel0002</th>\n",
              "      <th>pixel0003</th>\n",
              "      <th>pixel0004</th>\n",
              "      <th>pixel0005</th>\n",
              "      <th>pixel0006</th>\n",
              "      <th>pixel0007</th>\n",
              "      <th>pixel0008</th>\n",
              "      <th>pixel0009</th>\n",
              "      <th>...</th>\n",
              "      <th>pixel2343</th>\n",
              "      <th>pixel2344</th>\n",
              "      <th>pixel2345</th>\n",
              "      <th>pixel2346</th>\n",
              "      <th>pixel2347</th>\n",
              "      <th>pixel2348</th>\n",
              "      <th>pixel2349</th>\n",
              "      <th>pixel2350</th>\n",
              "      <th>pixel2351</th>\n",
              "      <th>label</th>\n",
              "    </tr>\n",
              "  </thead>\n",
              "  <tbody>\n",
              "    <tr>\n",
              "      <th>0</th>\n",
              "      <td>192</td>\n",
              "      <td>153</td>\n",
              "      <td>193</td>\n",
              "      <td>195</td>\n",
              "      <td>155</td>\n",
              "      <td>192</td>\n",
              "      <td>197</td>\n",
              "      <td>154</td>\n",
              "      <td>185</td>\n",
              "      <td>202</td>\n",
              "      <td>...</td>\n",
              "      <td>173</td>\n",
              "      <td>124</td>\n",
              "      <td>138</td>\n",
              "      <td>183</td>\n",
              "      <td>147</td>\n",
              "      <td>166</td>\n",
              "      <td>185</td>\n",
              "      <td>154</td>\n",
              "      <td>177</td>\n",
              "      <td>2</td>\n",
              "    </tr>\n",
              "    <tr>\n",
              "      <th>1</th>\n",
              "      <td>25</td>\n",
              "      <td>14</td>\n",
              "      <td>30</td>\n",
              "      <td>68</td>\n",
              "      <td>48</td>\n",
              "      <td>75</td>\n",
              "      <td>123</td>\n",
              "      <td>93</td>\n",
              "      <td>126</td>\n",
              "      <td>158</td>\n",
              "      <td>...</td>\n",
              "      <td>60</td>\n",
              "      <td>39</td>\n",
              "      <td>55</td>\n",
              "      <td>25</td>\n",
              "      <td>14</td>\n",
              "      <td>28</td>\n",
              "      <td>25</td>\n",
              "      <td>14</td>\n",
              "      <td>27</td>\n",
              "      <td>2</td>\n",
              "    </tr>\n",
              "    <tr>\n",
              "      <th>2</th>\n",
              "      <td>192</td>\n",
              "      <td>138</td>\n",
              "      <td>153</td>\n",
              "      <td>200</td>\n",
              "      <td>145</td>\n",
              "      <td>163</td>\n",
              "      <td>201</td>\n",
              "      <td>142</td>\n",
              "      <td>160</td>\n",
              "      <td>206</td>\n",
              "      <td>...</td>\n",
              "      <td>167</td>\n",
              "      <td>129</td>\n",
              "      <td>143</td>\n",
              "      <td>159</td>\n",
              "      <td>124</td>\n",
              "      <td>142</td>\n",
              "      <td>136</td>\n",
              "      <td>104</td>\n",
              "      <td>117</td>\n",
              "      <td>2</td>\n",
              "    </tr>\n",
              "    <tr>\n",
              "      <th>3</th>\n",
              "      <td>38</td>\n",
              "      <td>19</td>\n",
              "      <td>30</td>\n",
              "      <td>95</td>\n",
              "      <td>59</td>\n",
              "      <td>72</td>\n",
              "      <td>143</td>\n",
              "      <td>103</td>\n",
              "      <td>119</td>\n",
              "      <td>171</td>\n",
              "      <td>...</td>\n",
              "      <td>44</td>\n",
              "      <td>26</td>\n",
              "      <td>36</td>\n",
              "      <td>25</td>\n",
              "      <td>12</td>\n",
              "      <td>17</td>\n",
              "      <td>25</td>\n",
              "      <td>12</td>\n",
              "      <td>15</td>\n",
              "      <td>2</td>\n",
              "    </tr>\n",
              "    <tr>\n",
              "      <th>4</th>\n",
              "      <td>158</td>\n",
              "      <td>113</td>\n",
              "      <td>139</td>\n",
              "      <td>194</td>\n",
              "      <td>144</td>\n",
              "      <td>174</td>\n",
              "      <td>215</td>\n",
              "      <td>162</td>\n",
              "      <td>191</td>\n",
              "      <td>225</td>\n",
              "      <td>...</td>\n",
              "      <td>209</td>\n",
              "      <td>166</td>\n",
              "      <td>185</td>\n",
              "      <td>172</td>\n",
              "      <td>135</td>\n",
              "      <td>149</td>\n",
              "      <td>109</td>\n",
              "      <td>78</td>\n",
              "      <td>92</td>\n",
              "      <td>2</td>\n",
              "    </tr>\n",
              "  </tbody>\n",
              "</table>\n",
              "<p>5 rows × 2353 columns</p>\n",
              "</div>\n",
              "    <div class=\"colab-df-buttons\">\n",
              "\n",
              "  <div class=\"colab-df-container\">\n",
              "    <button class=\"colab-df-convert\" onclick=\"convertToInteractive('df-80ee3a83-b42f-438d-aff8-dda08e91c905')\"\n",
              "            title=\"Convert this dataframe to an interactive table.\"\n",
              "            style=\"display:none;\">\n",
              "\n",
              "  <svg xmlns=\"http://www.w3.org/2000/svg\" height=\"24px\" viewBox=\"0 -960 960 960\">\n",
              "    <path d=\"M120-120v-720h720v720H120Zm60-500h600v-160H180v160Zm220 220h160v-160H400v160Zm0 220h160v-160H400v160ZM180-400h160v-160H180v160Zm440 0h160v-160H620v160ZM180-180h160v-160H180v160Zm440 0h160v-160H620v160Z\"/>\n",
              "  </svg>\n",
              "    </button>\n",
              "\n",
              "  <style>\n",
              "    .colab-df-container {\n",
              "      display:flex;\n",
              "      gap: 12px;\n",
              "    }\n",
              "\n",
              "    .colab-df-convert {\n",
              "      background-color: #E8F0FE;\n",
              "      border: none;\n",
              "      border-radius: 50%;\n",
              "      cursor: pointer;\n",
              "      display: none;\n",
              "      fill: #1967D2;\n",
              "      height: 32px;\n",
              "      padding: 0 0 0 0;\n",
              "      width: 32px;\n",
              "    }\n",
              "\n",
              "    .colab-df-convert:hover {\n",
              "      background-color: #E2EBFA;\n",
              "      box-shadow: 0px 1px 2px rgba(60, 64, 67, 0.3), 0px 1px 3px 1px rgba(60, 64, 67, 0.15);\n",
              "      fill: #174EA6;\n",
              "    }\n",
              "\n",
              "    .colab-df-buttons div {\n",
              "      margin-bottom: 4px;\n",
              "    }\n",
              "\n",
              "    [theme=dark] .colab-df-convert {\n",
              "      background-color: #3B4455;\n",
              "      fill: #D2E3FC;\n",
              "    }\n",
              "\n",
              "    [theme=dark] .colab-df-convert:hover {\n",
              "      background-color: #434B5C;\n",
              "      box-shadow: 0px 1px 3px 1px rgba(0, 0, 0, 0.15);\n",
              "      filter: drop-shadow(0px 1px 2px rgba(0, 0, 0, 0.3));\n",
              "      fill: #FFFFFF;\n",
              "    }\n",
              "  </style>\n",
              "\n",
              "    <script>\n",
              "      const buttonEl =\n",
              "        document.querySelector('#df-80ee3a83-b42f-438d-aff8-dda08e91c905 button.colab-df-convert');\n",
              "      buttonEl.style.display =\n",
              "        google.colab.kernel.accessAllowed ? 'block' : 'none';\n",
              "\n",
              "      async function convertToInteractive(key) {\n",
              "        const element = document.querySelector('#df-80ee3a83-b42f-438d-aff8-dda08e91c905');\n",
              "        const dataTable =\n",
              "          await google.colab.kernel.invokeFunction('convertToInteractive',\n",
              "                                                    [key], {});\n",
              "        if (!dataTable) return;\n",
              "\n",
              "        const docLinkHtml = 'Like what you see? Visit the ' +\n",
              "          '<a target=\"_blank\" href=https://colab.research.google.com/notebooks/data_table.ipynb>data table notebook</a>'\n",
              "          + ' to learn more about interactive tables.';\n",
              "        element.innerHTML = '';\n",
              "        dataTable['output_type'] = 'display_data';\n",
              "        await google.colab.output.renderOutput(dataTable, element);\n",
              "        const docLink = document.createElement('div');\n",
              "        docLink.innerHTML = docLinkHtml;\n",
              "        element.appendChild(docLink);\n",
              "      }\n",
              "    </script>\n",
              "  </div>\n",
              "\n",
              "\n",
              "<div id=\"df-bbf20799-e55c-407b-ae5f-bbe25eeb164b\">\n",
              "  <button class=\"colab-df-quickchart\" onclick=\"quickchart('df-bbf20799-e55c-407b-ae5f-bbe25eeb164b')\"\n",
              "            title=\"Suggest charts.\"\n",
              "            style=\"display:none;\">\n",
              "\n",
              "<svg xmlns=\"http://www.w3.org/2000/svg\" height=\"24px\"viewBox=\"0 0 24 24\"\n",
              "     width=\"24px\">\n",
              "    <g>\n",
              "        <path d=\"M19 3H5c-1.1 0-2 .9-2 2v14c0 1.1.9 2 2 2h14c1.1 0 2-.9 2-2V5c0-1.1-.9-2-2-2zM9 17H7v-7h2v7zm4 0h-2V7h2v10zm4 0h-2v-4h2v4z\"/>\n",
              "    </g>\n",
              "</svg>\n",
              "  </button>\n",
              "\n",
              "<style>\n",
              "  .colab-df-quickchart {\n",
              "      --bg-color: #E8F0FE;\n",
              "      --fill-color: #1967D2;\n",
              "      --hover-bg-color: #E2EBFA;\n",
              "      --hover-fill-color: #174EA6;\n",
              "      --disabled-fill-color: #AAA;\n",
              "      --disabled-bg-color: #DDD;\n",
              "  }\n",
              "\n",
              "  [theme=dark] .colab-df-quickchart {\n",
              "      --bg-color: #3B4455;\n",
              "      --fill-color: #D2E3FC;\n",
              "      --hover-bg-color: #434B5C;\n",
              "      --hover-fill-color: #FFFFFF;\n",
              "      --disabled-bg-color: #3B4455;\n",
              "      --disabled-fill-color: #666;\n",
              "  }\n",
              "\n",
              "  .colab-df-quickchart {\n",
              "    background-color: var(--bg-color);\n",
              "    border: none;\n",
              "    border-radius: 50%;\n",
              "    cursor: pointer;\n",
              "    display: none;\n",
              "    fill: var(--fill-color);\n",
              "    height: 32px;\n",
              "    padding: 0;\n",
              "    width: 32px;\n",
              "  }\n",
              "\n",
              "  .colab-df-quickchart:hover {\n",
              "    background-color: var(--hover-bg-color);\n",
              "    box-shadow: 0 1px 2px rgba(60, 64, 67, 0.3), 0 1px 3px 1px rgba(60, 64, 67, 0.15);\n",
              "    fill: var(--button-hover-fill-color);\n",
              "  }\n",
              "\n",
              "  .colab-df-quickchart-complete:disabled,\n",
              "  .colab-df-quickchart-complete:disabled:hover {\n",
              "    background-color: var(--disabled-bg-color);\n",
              "    fill: var(--disabled-fill-color);\n",
              "    box-shadow: none;\n",
              "  }\n",
              "\n",
              "  .colab-df-spinner {\n",
              "    border: 2px solid var(--fill-color);\n",
              "    border-color: transparent;\n",
              "    border-bottom-color: var(--fill-color);\n",
              "    animation:\n",
              "      spin 1s steps(1) infinite;\n",
              "  }\n",
              "\n",
              "  @keyframes spin {\n",
              "    0% {\n",
              "      border-color: transparent;\n",
              "      border-bottom-color: var(--fill-color);\n",
              "      border-left-color: var(--fill-color);\n",
              "    }\n",
              "    20% {\n",
              "      border-color: transparent;\n",
              "      border-left-color: var(--fill-color);\n",
              "      border-top-color: var(--fill-color);\n",
              "    }\n",
              "    30% {\n",
              "      border-color: transparent;\n",
              "      border-left-color: var(--fill-color);\n",
              "      border-top-color: var(--fill-color);\n",
              "      border-right-color: var(--fill-color);\n",
              "    }\n",
              "    40% {\n",
              "      border-color: transparent;\n",
              "      border-right-color: var(--fill-color);\n",
              "      border-top-color: var(--fill-color);\n",
              "    }\n",
              "    60% {\n",
              "      border-color: transparent;\n",
              "      border-right-color: var(--fill-color);\n",
              "    }\n",
              "    80% {\n",
              "      border-color: transparent;\n",
              "      border-right-color: var(--fill-color);\n",
              "      border-bottom-color: var(--fill-color);\n",
              "    }\n",
              "    90% {\n",
              "      border-color: transparent;\n",
              "      border-bottom-color: var(--fill-color);\n",
              "    }\n",
              "  }\n",
              "</style>\n",
              "\n",
              "  <script>\n",
              "    async function quickchart(key) {\n",
              "      const quickchartButtonEl =\n",
              "        document.querySelector('#' + key + ' button');\n",
              "      quickchartButtonEl.disabled = true;  // To prevent multiple clicks.\n",
              "      quickchartButtonEl.classList.add('colab-df-spinner');\n",
              "      try {\n",
              "        const charts = await google.colab.kernel.invokeFunction(\n",
              "            'suggestCharts', [key], {});\n",
              "      } catch (error) {\n",
              "        console.error('Error during call to suggestCharts:', error);\n",
              "      }\n",
              "      quickchartButtonEl.classList.remove('colab-df-spinner');\n",
              "      quickchartButtonEl.classList.add('colab-df-quickchart-complete');\n",
              "    }\n",
              "    (() => {\n",
              "      let quickchartButtonEl =\n",
              "        document.querySelector('#df-bbf20799-e55c-407b-ae5f-bbe25eeb164b button');\n",
              "      quickchartButtonEl.style.display =\n",
              "        google.colab.kernel.accessAllowed ? 'block' : 'none';\n",
              "    })();\n",
              "  </script>\n",
              "</div>\n",
              "    </div>\n",
              "  </div>\n"
            ]
          },
          "metadata": {},
          "execution_count": 3
        }
      ]
    },
    {
      "cell_type": "markdown",
      "id": "c6befee8",
      "metadata": {
        "papermill": {
          "duration": 0.009722,
          "end_time": "2023-08-20T09:48:52.247324",
          "exception": false,
          "start_time": "2023-08-20T09:48:52.237602",
          "status": "completed"
        },
        "tags": [],
        "id": "c6befee8"
      },
      "source": [
        "**Split data and labels**"
      ]
    },
    {
      "cell_type": "code",
      "execution_count": null,
      "id": "5ead1bee",
      "metadata": {
        "execution": {
          "iopub.execute_input": "2023-08-20T09:48:52.267940Z",
          "iopub.status.busy": "2023-08-20T09:48:52.267628Z",
          "iopub.status.idle": "2023-08-20T09:48:52.331475Z",
          "shell.execute_reply": "2023-08-20T09:48:52.330252Z"
        },
        "papermill": {
          "duration": 0.077241,
          "end_time": "2023-08-20T09:48:52.334300",
          "exception": false,
          "start_time": "2023-08-20T09:48:52.257059",
          "status": "completed"
        },
        "tags": [],
        "id": "5ead1bee"
      },
      "outputs": [],
      "source": [
        "Label = data[\"label\"]\n",
        "Data = data.drop(columns=[\"label\"])"
      ]
    },
    {
      "cell_type": "code",
      "execution_count": null,
      "id": "2b14d684",
      "metadata": {
        "execution": {
          "iopub.execute_input": "2023-08-20T09:48:52.355827Z",
          "iopub.status.busy": "2023-08-20T09:48:52.355491Z",
          "iopub.status.idle": "2023-08-20T09:48:52.366377Z",
          "shell.execute_reply": "2023-08-20T09:48:52.365311Z"
        },
        "papermill": {
          "duration": 0.024426,
          "end_time": "2023-08-20T09:48:52.368719",
          "exception": false,
          "start_time": "2023-08-20T09:48:52.344293",
          "status": "completed"
        },
        "tags": [],
        "colab": {
          "base_uri": "https://localhost:8080/"
        },
        "id": "2b14d684",
        "outputId": "a50787f9-b127-4e92-99da-069bb72337bf"
      },
      "outputs": [
        {
          "output_type": "execute_result",
          "data": {
            "text/plain": [
              "4    6705\n",
              "6    1113\n",
              "2    1099\n",
              "1     514\n",
              "0     327\n",
              "5     142\n",
              "3     115\n",
              "Name: label, dtype: int64"
            ]
          },
          "metadata": {},
          "execution_count": 5
        }
      ],
      "source": [
        "data[\"label\"].value_counts()"
      ]
    },
    {
      "cell_type": "markdown",
      "id": "a0036d7e",
      "metadata": {
        "papermill": {
          "duration": 0.010117,
          "end_time": "2023-08-20T09:48:52.389110",
          "exception": false,
          "start_time": "2023-08-20T09:48:52.378993",
          "status": "completed"
        },
        "tags": [],
        "id": "a0036d7e"
      },
      "source": [
        "We have imbalance in the data"
      ]
    },
    {
      "cell_type": "markdown",
      "id": "b46eaf47",
      "metadata": {
        "papermill": {
          "duration": 0.010042,
          "end_time": "2023-08-20T09:48:52.409164",
          "exception": false,
          "start_time": "2023-08-20T09:48:52.399122",
          "status": "completed"
        },
        "tags": [],
        "id": "b46eaf47"
      },
      "source": [
        "**Handling imbalanced datasets**"
      ]
    },
    {
      "cell_type": "code",
      "execution_count": null,
      "id": "d39bda6f",
      "metadata": {
        "execution": {
          "iopub.execute_input": "2023-08-20T09:48:52.429679Z",
          "iopub.status.busy": "2023-08-20T09:48:52.429369Z",
          "iopub.status.idle": "2023-08-20T09:48:55.840004Z",
          "shell.execute_reply": "2023-08-20T09:48:55.839015Z"
        },
        "papermill": {
          "duration": 3.423748,
          "end_time": "2023-08-20T09:48:55.842454",
          "exception": false,
          "start_time": "2023-08-20T09:48:52.418706",
          "status": "completed"
        },
        "tags": [],
        "id": "d39bda6f"
      },
      "outputs": [],
      "source": [
        "from imblearn.over_sampling import RandomOverSampler\n",
        "\n",
        "oversample = RandomOverSampler()\n",
        "Data, Label  = oversample.fit_resample(Data, Label)\n",
        "Data = np.array(Data).reshape(-1, 28, 28, 3)"
      ]
    },
    {
      "cell_type": "code",
      "execution_count": null,
      "id": "35e9a25f",
      "metadata": {
        "execution": {
          "iopub.execute_input": "2023-08-20T09:48:55.864960Z",
          "iopub.status.busy": "2023-08-20T09:48:55.863326Z",
          "iopub.status.idle": "2023-08-20T09:48:55.871001Z",
          "shell.execute_reply": "2023-08-20T09:48:55.870004Z"
        },
        "papermill": {
          "duration": 0.020547,
          "end_time": "2023-08-20T09:48:55.873140",
          "exception": false,
          "start_time": "2023-08-20T09:48:55.852593",
          "status": "completed"
        },
        "tags": [],
        "colab": {
          "base_uri": "https://localhost:8080/"
        },
        "id": "35e9a25f",
        "outputId": "42d761c4-20f6-453c-ff20-79f3c7746022"
      },
      "outputs": [
        {
          "output_type": "execute_result",
          "data": {
            "text/plain": [
              "array([2, 2, 2, ..., 6, 6, 6])"
            ]
          },
          "metadata": {},
          "execution_count": 7
        }
      ],
      "source": [
        "Label = np.array(Label)\n",
        "Label"
      ]
    },
    {
      "cell_type": "markdown",
      "id": "9ef2bcb6",
      "metadata": {
        "papermill": {
          "duration": 0.009367,
          "end_time": "2023-08-20T09:48:55.892279",
          "exception": false,
          "start_time": "2023-08-20T09:48:55.882912",
          "status": "completed"
        },
        "tags": [],
        "id": "9ef2bcb6"
      },
      "source": [
        "**Convert abbreviations to it's words**"
      ]
    },
    {
      "cell_type": "code",
      "execution_count": null,
      "id": "5d4e46e9",
      "metadata": {
        "execution": {
          "iopub.execute_input": "2023-08-20T09:48:55.913207Z",
          "iopub.status.busy": "2023-08-20T09:48:55.912923Z",
          "iopub.status.idle": "2023-08-20T09:48:55.918014Z",
          "shell.execute_reply": "2023-08-20T09:48:55.917058Z"
        },
        "papermill": {
          "duration": 0.017782,
          "end_time": "2023-08-20T09:48:55.920078",
          "exception": false,
          "start_time": "2023-08-20T09:48:55.902296",
          "status": "completed"
        },
        "tags": [],
        "id": "5d4e46e9"
      },
      "outputs": [],
      "source": [
        "classes = {4: ('nv', ' melanocytic nevi'),\n",
        "           6: ('mel', 'melanoma'),\n",
        "           2 :('bkl', 'benign keratosis-like lesions'),\n",
        "           1:('bcc' , ' basal cell carcinoma'),\n",
        "           5: ('vasc', ' pyogenic granulomas and hemorrhage'),\n",
        "           0: ('akiec', 'Actinic keratoses and intraepithelial carcinomae'),\n",
        "           3: ('df', 'dermatofibroma')}"
      ]
    },
    {
      "cell_type": "markdown",
      "id": "71224c4f",
      "metadata": {
        "papermill": {
          "duration": 0.009439,
          "end_time": "2023-08-20T09:48:55.939264",
          "exception": false,
          "start_time": "2023-08-20T09:48:55.929825",
          "status": "completed"
        },
        "tags": [],
        "id": "71224c4f"
      },
      "source": [
        "# train_test_split"
      ]
    },
    {
      "cell_type": "code",
      "execution_count": null,
      "id": "a14ce232",
      "metadata": {
        "execution": {
          "iopub.execute_input": "2023-08-20T09:48:55.960351Z",
          "iopub.status.busy": "2023-08-20T09:48:55.960015Z",
          "iopub.status.idle": "2023-08-20T09:48:57.254321Z",
          "shell.execute_reply": "2023-08-20T09:48:57.253325Z"
        },
        "papermill": {
          "duration": 1.307679,
          "end_time": "2023-08-20T09:48:57.256750",
          "exception": false,
          "start_time": "2023-08-20T09:48:55.949071",
          "status": "completed"
        },
        "tags": [],
        "id": "a14ce232"
      },
      "outputs": [],
      "source": [
        "from sklearn.model_selection import train_test_split\n",
        "\n",
        "X_train , X_test , y_train , y_test = train_test_split(Data , Label , test_size = 0.25 , random_state = 49)"
      ]
    },
    {
      "cell_type": "code",
      "execution_count": null,
      "id": "fa15d6a7",
      "metadata": {
        "execution": {
          "iopub.execute_input": "2023-08-20T09:48:57.280302Z",
          "iopub.status.busy": "2023-08-20T09:48:57.279965Z",
          "iopub.status.idle": "2023-08-20T09:48:57.286083Z",
          "shell.execute_reply": "2023-08-20T09:48:57.284804Z"
        },
        "papermill": {
          "duration": 0.019906,
          "end_time": "2023-08-20T09:48:57.288324",
          "exception": false,
          "start_time": "2023-08-20T09:48:57.268418",
          "status": "completed"
        },
        "tags": [],
        "colab": {
          "base_uri": "https://localhost:8080/"
        },
        "id": "fa15d6a7",
        "outputId": "9acb19bf-1675-4f46-8c64-2e1b49ac8ca3"
      },
      "outputs": [
        {
          "output_type": "stream",
          "name": "stdout",
          "text": [
            "(35201, 28, 28, 3)\n",
            "(35201,)\n",
            "(11734, 28, 28, 3)\n",
            "(11734,)\n"
          ]
        }
      ],
      "source": [
        "print(X_train.shape)\n",
        "print(y_train.shape)\n",
        "print(X_test.shape)\n",
        "print(y_test.shape)"
      ]
    },
    {
      "cell_type": "markdown",
      "id": "fb9a2067",
      "metadata": {
        "papermill": {
          "duration": 0.009492,
          "end_time": "2023-08-20T09:48:57.307669",
          "exception": false,
          "start_time": "2023-08-20T09:48:57.298177",
          "status": "completed"
        },
        "tags": [],
        "id": "fb9a2067"
      },
      "source": [
        "**Convert labels to categorical types**"
      ]
    },
    {
      "cell_type": "code",
      "execution_count": null,
      "id": "4e2a0490",
      "metadata": {
        "execution": {
          "iopub.execute_input": "2023-08-20T09:48:57.328569Z",
          "iopub.status.busy": "2023-08-20T09:48:57.328270Z",
          "iopub.status.idle": "2023-08-20T09:48:57.335239Z",
          "shell.execute_reply": "2023-08-20T09:48:57.334254Z"
        },
        "papermill": {
          "duration": 0.019841,
          "end_time": "2023-08-20T09:48:57.337412",
          "exception": false,
          "start_time": "2023-08-20T09:48:57.317571",
          "status": "completed"
        },
        "tags": [],
        "id": "4e2a0490"
      },
      "outputs": [],
      "source": [
        "from keras.utils.np_utils import to_categorical\n",
        "\n",
        "y_train = to_categorical(y_train)\n",
        "y_test = to_categorical(y_test)"
      ]
    },
    {
      "cell_type": "markdown",
      "id": "91c0c9ff",
      "metadata": {
        "papermill": {
          "duration": 0.009909,
          "end_time": "2023-08-20T09:48:57.357978",
          "exception": false,
          "start_time": "2023-08-20T09:48:57.348069",
          "status": "completed"
        },
        "tags": [],
        "id": "91c0c9ff"
      },
      "source": [
        "**Create Image Data Generation**"
      ]
    },
    {
      "cell_type": "code",
      "execution_count": null,
      "id": "7317c407",
      "metadata": {
        "execution": {
          "iopub.execute_input": "2023-08-20T09:48:57.379488Z",
          "iopub.status.busy": "2023-08-20T09:48:57.379176Z",
          "iopub.status.idle": "2023-08-20T09:48:57.384336Z",
          "shell.execute_reply": "2023-08-20T09:48:57.383319Z"
        },
        "papermill": {
          "duration": 0.018708,
          "end_time": "2023-08-20T09:48:57.386721",
          "exception": false,
          "start_time": "2023-08-20T09:48:57.368013",
          "status": "completed"
        },
        "tags": [],
        "id": "7317c407"
      },
      "outputs": [],
      "source": [
        "datagen = ImageDataGenerator(rescale=(1./255)\n",
        "                             ,rotation_range=10\n",
        "                             ,zoom_range = 0.1\n",
        "                             ,width_shift_range=0.1\n",
        "                             ,height_shift_range=0.1)\n",
        "\n",
        "testgen = ImageDataGenerator(rescale=(1./255))"
      ]
    },
    {
      "cell_type": "code",
      "source": [
        "Data.shape"
      ],
      "metadata": {
        "colab": {
          "base_uri": "https://localhost:8080/"
        },
        "id": "nBCvdkLJEXRH",
        "outputId": "ab2cc281-11bf-431d-c886-d15de31f27cb"
      },
      "id": "nBCvdkLJEXRH",
      "execution_count": null,
      "outputs": [
        {
          "output_type": "execute_result",
          "data": {
            "text/plain": [
              "(46935, 28, 28, 3)"
            ]
          },
          "metadata": {},
          "execution_count": 13
        }
      ]
    },
    {
      "cell_type": "markdown",
      "id": "0b40db2f",
      "metadata": {
        "papermill": {
          "duration": 0.009451,
          "end_time": "2023-08-20T09:48:57.405861",
          "exception": false,
          "start_time": "2023-08-20T09:48:57.396410",
          "status": "completed"
        },
        "tags": [],
        "id": "0b40db2f"
      },
      "source": [
        "**Create ReduceLROnPlateau to learning rate reduction**"
      ]
    },
    {
      "cell_type": "code",
      "execution_count": null,
      "id": "8103581f",
      "metadata": {
        "execution": {
          "iopub.execute_input": "2023-08-20T09:48:57.426406Z",
          "iopub.status.busy": "2023-08-20T09:48:57.426117Z",
          "iopub.status.idle": "2023-08-20T09:48:57.432344Z",
          "shell.execute_reply": "2023-08-20T09:48:57.431317Z"
        },
        "papermill": {
          "duration": 0.018871,
          "end_time": "2023-08-20T09:48:57.434408",
          "exception": false,
          "start_time": "2023-08-20T09:48:57.415537",
          "status": "completed"
        },
        "tags": [],
        "id": "8103581f"
      },
      "outputs": [],
      "source": [
        "from keras.callbacks import ReduceLROnPlateau\n",
        "\n",
        "learning_rate_reduction = ReduceLROnPlateau(monitor='val_accuracy'\n",
        "                                            , patience = 2\n",
        "                                            , verbose=1\n",
        "                                            ,factor=0.5\n",
        "                                            , min_lr=0.00001)"
      ]
    },
    {
      "cell_type": "markdown",
      "id": "374d2355",
      "metadata": {
        "papermill": {
          "duration": 0.00941,
          "end_time": "2023-08-20T09:48:57.453456",
          "exception": false,
          "start_time": "2023-08-20T09:48:57.444046",
          "status": "completed"
        },
        "tags": [],
        "id": "374d2355"
      },
      "source": [
        "# Model Structure"
      ]
    },
    {
      "cell_type": "code",
      "execution_count": null,
      "id": "03239f85",
      "metadata": {
        "execution": {
          "iopub.execute_input": "2023-08-20T09:48:57.475294Z",
          "iopub.status.busy": "2023-08-20T09:48:57.474509Z",
          "iopub.status.idle": "2023-08-20T09:49:00.565489Z",
          "shell.execute_reply": "2023-08-20T09:49:00.564612Z"
        },
        "papermill": {
          "duration": 3.152221,
          "end_time": "2023-08-20T09:49:00.615506",
          "exception": false,
          "start_time": "2023-08-20T09:48:57.463285",
          "status": "completed"
        },
        "tags": [],
        "colab": {
          "base_uri": "https://localhost:8080/"
        },
        "id": "03239f85",
        "outputId": "5944015c-18ed-4f28-c00f-f6e727de0420"
      },
      "outputs": [
        {
          "output_type": "stream",
          "name": "stdout",
          "text": [
            "Model: \"sequential\"\n",
            "_________________________________________________________________\n",
            " Layer (type)                Output Shape              Param #   \n",
            "=================================================================\n",
            " conv2d (Conv2D)             (None, 28, 28, 32)        896       \n",
            "                                                                 \n",
            " max_pooling2d (MaxPooling2D  (None, 14, 14, 32)       0         \n",
            " )                                                               \n",
            "                                                                 \n",
            " batch_normalization (BatchN  (None, 14, 14, 32)       128       \n",
            " ormalization)                                                   \n",
            "                                                                 \n",
            " conv2d_1 (Conv2D)           (None, 14, 14, 64)        18496     \n",
            "                                                                 \n",
            " conv2d_2 (Conv2D)           (None, 14, 14, 64)        36928     \n",
            "                                                                 \n",
            " max_pooling2d_1 (MaxPooling  (None, 7, 7, 64)         0         \n",
            " 2D)                                                             \n",
            "                                                                 \n",
            " batch_normalization_1 (Batc  (None, 7, 7, 64)         256       \n",
            " hNormalization)                                                 \n",
            "                                                                 \n",
            " conv2d_3 (Conv2D)           (None, 7, 7, 128)         73856     \n",
            "                                                                 \n",
            " conv2d_4 (Conv2D)           (None, 7, 7, 128)         147584    \n",
            "                                                                 \n",
            " max_pooling2d_2 (MaxPooling  (None, 3, 3, 128)        0         \n",
            " 2D)                                                             \n",
            "                                                                 \n",
            " batch_normalization_2 (Batc  (None, 3, 3, 128)        512       \n",
            " hNormalization)                                                 \n",
            "                                                                 \n",
            " conv2d_5 (Conv2D)           (None, 3, 3, 256)         295168    \n",
            "                                                                 \n",
            " conv2d_6 (Conv2D)           (None, 3, 3, 256)         590080    \n",
            "                                                                 \n",
            " max_pooling2d_3 (MaxPooling  (None, 1, 1, 256)        0         \n",
            " 2D)                                                             \n",
            "                                                                 \n",
            " flatten (Flatten)           (None, 256)               0         \n",
            "                                                                 \n",
            " dropout (Dropout)           (None, 256)               0         \n",
            "                                                                 \n",
            " dense (Dense)               (None, 256)               65792     \n",
            "                                                                 \n",
            " batch_normalization_3 (Batc  (None, 256)              1024      \n",
            " hNormalization)                                                 \n",
            "                                                                 \n",
            " dense_1 (Dense)             (None, 128)               32896     \n",
            "                                                                 \n",
            " batch_normalization_4 (Batc  (None, 128)              512       \n",
            " hNormalization)                                                 \n",
            "                                                                 \n",
            " dense_2 (Dense)             (None, 64)                8256      \n",
            "                                                                 \n",
            " batch_normalization_5 (Batc  (None, 64)               256       \n",
            " hNormalization)                                                 \n",
            "                                                                 \n",
            " dense_3 (Dense)             (None, 32)                2080      \n",
            "                                                                 \n",
            " batch_normalization_6 (Batc  (None, 32)               128       \n",
            " hNormalization)                                                 \n",
            "                                                                 \n",
            " classifier (Dense)          (None, 7)                 231       \n",
            "                                                                 \n",
            "=================================================================\n",
            "Total params: 1,275,079\n",
            "Trainable params: 1,273,671\n",
            "Non-trainable params: 1,408\n",
            "_________________________________________________________________\n"
          ]
        }
      ],
      "source": [
        "model = keras.models.Sequential()\n",
        "\n",
        "# Create Model Structure\n",
        "model.add(keras.layers.Input(shape=[28, 28, 3]))\n",
        "model.add(keras.layers.Conv2D(32, (3, 3), activation='relu', padding='same', kernel_initializer='he_normal'))\n",
        "model.add(keras.layers.MaxPooling2D())\n",
        "model.add(keras.layers.BatchNormalization())\n",
        "\n",
        "model.add(keras.layers.Conv2D(64, (3, 3), activation='relu', padding='same', kernel_initializer='he_normal'))\n",
        "model.add(keras.layers.Conv2D(64, (3, 3), activation='relu', padding='same', kernel_initializer='he_normal'))\n",
        "model.add(keras.layers.MaxPooling2D())\n",
        "model.add(keras.layers.BatchNormalization())\n",
        "model.add(keras.layers.Conv2D(128, (3, 3), activation='relu', padding='same', kernel_initializer='he_normal'))\n",
        "model.add(keras.layers.Conv2D(128, (3, 3), activation='relu', padding='same', kernel_initializer='he_normal'))\n",
        "model.add(keras.layers.MaxPooling2D())\n",
        "model.add(keras.layers.BatchNormalization())\n",
        "\n",
        "model.add(keras.layers.Conv2D(256, (3, 3), activation='relu', padding='same', kernel_initializer='he_normal'))\n",
        "model.add(keras.layers.Conv2D(256, (3, 3), activation='relu', padding='same', kernel_initializer='he_normal'))\n",
        "model.add(keras.layers.MaxPooling2D())\n",
        "\n",
        "model.add(keras.layers.Flatten())\n",
        "model.add(keras.layers.Dropout(rate=0.2))\n",
        "model.add(keras.layers.Dense(units=256, activation='relu', kernel_initializer='he_normal'))\n",
        "model.add(keras.layers.BatchNormalization())\n",
        "\n",
        "model.add(keras.layers.Dense(units=128, activation='relu', kernel_initializer='he_normal'))\n",
        "model.add(keras.layers.BatchNormalization())\n",
        "\n",
        "model.add(keras.layers.Dense(units=64, activation='relu', kernel_initializer='he_normal'))\n",
        "model.add(keras.layers.BatchNormalization())\n",
        "\n",
        "model.add(keras.layers.Dense(units=32, activation='relu', kernel_initializer='he_normal', kernel_regularizer=keras.regularizers.L1L2()))\n",
        "model.add(keras.layers.BatchNormalization())\n",
        "\n",
        "model.add(keras.layers.Dense(units=7, activation='softmax', kernel_initializer='glorot_uniform', name='classifier'))\n",
        "model.compile(Adamax(learning_rate= 0.001), loss= 'categorical_crossentropy', metrics= ['accuracy'])\n",
        "\n",
        "model.summary()\n",
        "\n"
      ]
    },
    {
      "cell_type": "markdown",
      "id": "8c7e4fba",
      "metadata": {
        "papermill": {
          "duration": 0.015013,
          "end_time": "2023-08-20T09:49:00.645864",
          "exception": false,
          "start_time": "2023-08-20T09:49:00.630851",
          "status": "completed"
        },
        "tags": [],
        "id": "8c7e4fba"
      },
      "source": [
        "**Training model**"
      ]
    },
    {
      "cell_type": "code",
      "execution_count": null,
      "id": "bf50f1e7",
      "metadata": {
        "execution": {
          "iopub.execute_input": "2023-08-20T09:49:00.677280Z",
          "iopub.status.busy": "2023-08-20T09:49:00.676919Z",
          "iopub.status.idle": "2023-08-20T09:51:27.031009Z",
          "shell.execute_reply": "2023-08-20T09:51:27.029929Z"
        },
        "papermill": {
          "duration": 146.373087,
          "end_time": "2023-08-20T09:51:27.033852",
          "exception": false,
          "start_time": "2023-08-20T09:49:00.660765",
          "status": "completed"
        },
        "tags": [],
        "colab": {
          "base_uri": "https://localhost:8080/"
        },
        "id": "bf50f1e7",
        "outputId": "4ec25a3f-d1b2-4670-f59b-c4c1535f2ee9"
      },
      "outputs": [
        {
          "output_type": "stream",
          "name": "stdout",
          "text": [
            "Epoch 1/25\n",
            "276/276 [==============================] - 305s 1s/step - loss: 1.2042 - accuracy: 0.5546 - val_loss: 1.0292 - val_accuracy: 0.6192 - lr: 0.0010\n",
            "Epoch 2/25\n",
            "276/276 [==============================] - 300s 1s/step - loss: 0.5287 - accuracy: 0.8205 - val_loss: 0.3599 - val_accuracy: 0.8728 - lr: 0.0010\n",
            "Epoch 3/25\n",
            "276/276 [==============================] - 297s 1s/step - loss: 0.3023 - accuracy: 0.8990 - val_loss: 0.3228 - val_accuracy: 0.8862 - lr: 0.0010\n",
            "Epoch 4/25\n",
            "276/276 [==============================] - 300s 1s/step - loss: 0.2013 - accuracy: 0.9317 - val_loss: 0.2288 - val_accuracy: 0.9230 - lr: 0.0010\n",
            "Epoch 5/25\n",
            "276/276 [==============================] - 297s 1s/step - loss: 0.1465 - accuracy: 0.9508 - val_loss: 0.1602 - val_accuracy: 0.9480 - lr: 0.0010\n",
            "Epoch 6/25\n",
            "276/276 [==============================] - 299s 1s/step - loss: 0.1126 - accuracy: 0.9624 - val_loss: 0.1392 - val_accuracy: 0.9556 - lr: 0.0010\n",
            "Epoch 7/25\n",
            "276/276 [==============================] - 303s 1s/step - loss: 0.0863 - accuracy: 0.9712 - val_loss: 0.1719 - val_accuracy: 0.9440 - lr: 0.0010\n",
            "Epoch 8/25\n",
            "276/276 [==============================] - 299s 1s/step - loss: 0.0641 - accuracy: 0.9790 - val_loss: 0.1019 - val_accuracy: 0.9640 - lr: 0.0010\n",
            "Epoch 9/25\n",
            "276/276 [==============================] - 300s 1s/step - loss: 0.0561 - accuracy: 0.9816 - val_loss: 0.1297 - val_accuracy: 0.9591 - lr: 0.0010\n",
            "Epoch 10/25\n",
            "275/276 [============================>.] - ETA: 1s - loss: 0.0458 - accuracy: 0.9846\n",
            "Epoch 10: ReduceLROnPlateau reducing learning rate to 0.0005000000237487257.\n",
            "276/276 [==============================] - 296s 1s/step - loss: 0.0459 - accuracy: 0.9845 - val_loss: 0.1495 - val_accuracy: 0.9542 - lr: 0.0010\n",
            "Epoch 11/25\n",
            "276/276 [==============================] - 298s 1s/step - loss: 0.0194 - accuracy: 0.9938 - val_loss: 0.0883 - val_accuracy: 0.9768 - lr: 5.0000e-04\n",
            "Epoch 12/25\n",
            "276/276 [==============================] - 295s 1s/step - loss: 0.0088 - accuracy: 0.9978 - val_loss: 0.0589 - val_accuracy: 0.9854 - lr: 5.0000e-04\n",
            "Epoch 13/25\n",
            "276/276 [==============================] - 297s 1s/step - loss: 0.0080 - accuracy: 0.9979 - val_loss: 0.0785 - val_accuracy: 0.9818 - lr: 5.0000e-04\n",
            "Epoch 14/25\n",
            "275/276 [============================>.] - ETA: 1s - loss: 0.0089 - accuracy: 0.9976\n",
            "Epoch 14: ReduceLROnPlateau reducing learning rate to 0.0002500000118743628.\n",
            "276/276 [==============================] - 296s 1s/step - loss: 0.0089 - accuracy: 0.9976 - val_loss: 0.0792 - val_accuracy: 0.9829 - lr: 5.0000e-04\n",
            "Epoch 15/25\n",
            "276/276 [==============================] - 295s 1s/step - loss: 0.0041 - accuracy: 0.9990 - val_loss: 0.0780 - val_accuracy: 0.9832 - lr: 2.5000e-04\n",
            "Epoch 16/25\n",
            "275/276 [============================>.] - ETA: 1s - loss: 0.0029 - accuracy: 0.9994\n",
            "Epoch 16: ReduceLROnPlateau reducing learning rate to 0.0001250000059371814.\n",
            "276/276 [==============================] - 296s 1s/step - loss: 0.0030 - accuracy: 0.9994 - val_loss: 0.0700 - val_accuracy: 0.9851 - lr: 2.5000e-04\n",
            "Epoch 17/25\n",
            "276/276 [==============================] - 294s 1s/step - loss: 0.0027 - accuracy: 0.9994 - val_loss: 0.0775 - val_accuracy: 0.9836 - lr: 1.2500e-04\n",
            "Epoch 18/25\n",
            "275/276 [============================>.] - ETA: 1s - loss: 0.0017 - accuracy: 0.9998\n",
            "Epoch 18: ReduceLROnPlateau reducing learning rate to 6.25000029685907e-05.\n",
            "276/276 [==============================] - 297s 1s/step - loss: 0.0018 - accuracy: 0.9998 - val_loss: 0.0714 - val_accuracy: 0.9850 - lr: 1.2500e-04\n",
            "Epoch 19/25\n",
            "276/276 [==============================] - 296s 1s/step - loss: 0.0019 - accuracy: 0.9996 - val_loss: 0.0704 - val_accuracy: 0.9857 - lr: 6.2500e-05\n",
            "Epoch 20/25\n",
            "276/276 [==============================] - 291s 1s/step - loss: 0.0019 - accuracy: 0.9998 - val_loss: 0.0725 - val_accuracy: 0.9852 - lr: 6.2500e-05\n",
            "Epoch 21/25\n",
            "275/276 [============================>.] - ETA: 1s - loss: 0.0015 - accuracy: 0.9997\n",
            "Epoch 21: ReduceLROnPlateau reducing learning rate to 3.125000148429535e-05.\n",
            "276/276 [==============================] - 296s 1s/step - loss: 0.0016 - accuracy: 0.9996 - val_loss: 0.0716 - val_accuracy: 0.9853 - lr: 6.2500e-05\n",
            "Epoch 22/25\n",
            "276/276 [==============================] - 295s 1s/step - loss: 0.0013 - accuracy: 0.9998 - val_loss: 0.0741 - val_accuracy: 0.9850 - lr: 3.1250e-05\n",
            "Epoch 23/25\n",
            "275/276 [============================>.] - ETA: 0s - loss: 0.0015 - accuracy: 0.9998\n",
            "Epoch 23: ReduceLROnPlateau reducing learning rate to 1.5625000742147677e-05.\n",
            "276/276 [==============================] - 294s 1s/step - loss: 0.0016 - accuracy: 0.9998 - val_loss: 0.0737 - val_accuracy: 0.9853 - lr: 3.1250e-05\n",
            "Epoch 24/25\n",
            "276/276 [==============================] - 298s 1s/step - loss: 0.0012 - accuracy: 0.9998 - val_loss: 0.0743 - val_accuracy: 0.9848 - lr: 1.5625e-05\n",
            "Epoch 25/25\n",
            "275/276 [============================>.] - ETA: 0s - loss: 0.0013 - accuracy: 0.9999\n",
            "Epoch 25: ReduceLROnPlateau reducing learning rate to 1e-05.\n",
            "276/276 [==============================] - 294s 1s/step - loss: 0.0014 - accuracy: 0.9999 - val_loss: 0.0729 - val_accuracy: 0.9853 - lr: 1.5625e-05\n"
          ]
        }
      ],
      "source": [
        "history = model.fit(X_train ,\n",
        "                    y_train ,\n",
        "                    epochs=25,\n",
        "                    batch_size=128,\n",
        "                    validation_data=(X_test , y_test) ,\n",
        "                    callbacks=[learning_rate_reduction])"
      ]
    },
    {
      "cell_type": "markdown",
      "id": "3f57848e",
      "metadata": {
        "papermill": {
          "duration": 0.128441,
          "end_time": "2023-08-20T09:51:27.289894",
          "exception": false,
          "start_time": "2023-08-20T09:51:27.161453",
          "status": "completed"
        },
        "tags": [],
        "id": "3f57848e"
      },
      "source": [
        "**Show training history**"
      ]
    },
    {
      "cell_type": "code",
      "execution_count": null,
      "id": "88d71ad7",
      "metadata": {
        "execution": {
          "iopub.execute_input": "2023-08-20T09:51:27.549415Z",
          "iopub.status.busy": "2023-08-20T09:51:27.549052Z",
          "iopub.status.idle": "2023-08-20T09:51:27.559773Z",
          "shell.execute_reply": "2023-08-20T09:51:27.558844Z"
        },
        "papermill": {
          "duration": 0.142572,
          "end_time": "2023-08-20T09:51:27.561737",
          "exception": false,
          "start_time": "2023-08-20T09:51:27.419165",
          "status": "completed"
        },
        "tags": [],
        "id": "88d71ad7"
      },
      "outputs": [],
      "source": [
        "def plot_training(hist):\n",
        "    tr_acc = hist.history['accuracy']\n",
        "    tr_loss = hist.history['loss']\n",
        "    val_acc = hist.history['val_accuracy']\n",
        "    val_loss = hist.history['val_loss']\n",
        "    index_loss = np.argmin(val_loss)\n",
        "    val_lowest = val_loss[index_loss]\n",
        "    index_acc = np.argmax(val_acc)\n",
        "    acc_highest = val_acc[index_acc]\n",
        "\n",
        "    plt.figure(figsize= (20, 8))\n",
        "    plt.style.use('fivethirtyeight')\n",
        "    Epochs = [i+1 for i in range(len(tr_acc))]\n",
        "    loss_label = f'best epoch= {str(index_loss + 1)}'\n",
        "    acc_label = f'best epoch= {str(index_acc + 1)}'\n",
        "\n",
        "    plt.subplot(1, 2, 1)\n",
        "    plt.plot(Epochs, tr_loss, 'r', label= 'Training loss')\n",
        "    plt.plot(Epochs, val_loss, 'g', label= 'Validation loss')\n",
        "    plt.scatter(index_loss + 1, val_lowest, s= 150, c= 'blue', label= loss_label)\n",
        "    plt.title('Training and Validation Loss')\n",
        "    plt.xlabel('Epochs')\n",
        "    plt.ylabel('Loss')\n",
        "    plt.legend()\n",
        "\n",
        "    plt.subplot(1, 2, 2)\n",
        "    plt.plot(Epochs, tr_acc, 'r', label= 'Training Accuracy')\n",
        "    plt.plot(Epochs, val_acc, 'g', label= 'Validation Accuracy')\n",
        "    plt.scatter(index_acc + 1 , acc_highest, s= 150, c= 'blue', label= acc_label)\n",
        "    plt.title('Training and Validation Accuracy')\n",
        "    plt.xlabel('Epochs')\n",
        "    plt.ylabel('Accuracy')\n",
        "    plt.legend()\n",
        "\n",
        "    plt.tight_layout\n",
        "    plt.show()\n"
      ]
    },
    {
      "cell_type": "code",
      "execution_count": null,
      "id": "48b45d17",
      "metadata": {
        "execution": {
          "iopub.execute_input": "2023-08-20T09:51:27.819314Z",
          "iopub.status.busy": "2023-08-20T09:51:27.818314Z",
          "iopub.status.idle": "2023-08-20T09:51:28.608435Z",
          "shell.execute_reply": "2023-08-20T09:51:28.607476Z"
        },
        "papermill": {
          "duration": 0.920291,
          "end_time": "2023-08-20T09:51:28.610495",
          "exception": false,
          "start_time": "2023-08-20T09:51:27.690204",
          "status": "completed"
        },
        "tags": [],
        "id": "48b45d17",
        "outputId": "29b4b10b-a8c3-4826-dbf7-c283b7f42a33",
        "colab": {
          "base_uri": "https://localhost:8080/",
          "height": 506
        }
      },
      "outputs": [
        {
          "output_type": "display_data",
          "data": {
            "text/plain": [
              "<Figure size 2000x800 with 2 Axes>"
            ],
            "image/png": "[encoded data removed]"
          },
          "metadata": {}
        }
      ],
      "source": [
        "plot_training(history)"
      ]
    },
    {
      "cell_type": "markdown",
      "id": "875f21ff",
      "metadata": {
        "papermill": {
          "duration": 0.129691,
          "end_time": "2023-08-20T09:51:28.871217",
          "exception": false,
          "start_time": "2023-08-20T09:51:28.741526",
          "status": "completed"
        },
        "tags": [],
        "id": "875f21ff"
      },
      "source": [
        "# Model Evaluation"
      ]
    },
    {
      "cell_type": "code",
      "execution_count": null,
      "id": "5aa0b622",
      "metadata": {
        "execution": {
          "iopub.execute_input": "2023-08-20T09:51:29.129953Z",
          "iopub.status.busy": "2023-08-20T09:51:29.129580Z",
          "iopub.status.idle": "2023-08-20T09:51:37.760566Z",
          "shell.execute_reply": "2023-08-20T09:51:37.759521Z"
        },
        "papermill": {
          "duration": 8.762961,
          "end_time": "2023-08-20T09:51:37.762699",
          "exception": false,
          "start_time": "2023-08-20T09:51:28.999738",
          "status": "completed"
        },
        "tags": [],
        "colab": {
          "base_uri": "https://localhost:8080/"
        },
        "id": "5aa0b622",
        "outputId": "d3e6bb53-f2bd-4ec1-d49f-3ea52551ea51"
      },
      "outputs": [
        {
          "output_type": "stream",
          "name": "stdout",
          "text": [
            "1101/1101 [==============================] - 60s 55ms/step - loss: 1.5404e-04 - accuracy: 1.0000\n",
            "367/367 [==============================] - 19s 53ms/step - loss: 0.0729 - accuracy: 0.9853\n",
            "Train Loss:  0.0001540358061902225\n",
            "Train Accuracy:  1.0\n",
            "--------------------\n",
            "Test Loss:  0.07292420417070389\n",
            "Test Accuracy:  0.9852564930915833\n"
          ]
        }
      ],
      "source": [
        "train_score = model.evaluate(X_train, y_train, verbose= 1)\n",
        "test_score = model.evaluate(X_test, y_test, verbose= 1)\n",
        "\n",
        "print(\"Train Loss: \", train_score[0])\n",
        "print(\"Train Accuracy: \", train_score[1])\n",
        "print('-' * 20)\n",
        "print(\"Test Loss: \", test_score[0])\n",
        "print(\"Test Accuracy: \", test_score[1])"
      ]
    },
    {
      "cell_type": "code",
      "execution_count": null,
      "id": "86d8ed7d",
      "metadata": {
        "execution": {
          "iopub.execute_input": "2023-08-20T09:51:38.045199Z",
          "iopub.status.busy": "2023-08-20T09:51:38.044232Z",
          "iopub.status.idle": "2023-08-20T09:51:39.966379Z",
          "shell.execute_reply": "2023-08-20T09:51:39.965332Z"
        },
        "papermill": {
          "duration": 2.067561,
          "end_time": "2023-08-20T09:51:39.969167",
          "exception": false,
          "start_time": "2023-08-20T09:51:37.901606",
          "status": "completed"
        },
        "tags": [],
        "colab": {
          "base_uri": "https://localhost:8080/"
        },
        "id": "86d8ed7d",
        "outputId": "28c704df-1f80-4bc0-8e11-a155d9c2b52b"
      },
      "outputs": [
        {
          "output_type": "stream",
          "name": "stdout",
          "text": [
            "367/367 [==============================] - 23s 62ms/step\n"
          ]
        }
      ],
      "source": [
        "y_true = np.array(y_test)\n",
        "y_pred = model.predict(X_test)\n",
        "\n",
        "y_pred = np.argmax(y_pred , axis=1)\n",
        "y_true = np.argmax(y_true , axis=1)"
      ]
    },
    {
      "cell_type": "markdown",
      "id": "ff83020f",
      "metadata": {
        "papermill": {
          "duration": 0.138809,
          "end_time": "2023-08-20T09:51:40.246360",
          "exception": false,
          "start_time": "2023-08-20T09:51:40.107551",
          "status": "completed"
        },
        "tags": [],
        "id": "ff83020f"
      },
      "source": [
        "**Create classes labels**"
      ]
    },
    {
      "cell_type": "code",
      "execution_count": null,
      "id": "ea0e3e23",
      "metadata": {
        "execution": {
          "iopub.execute_input": "2023-08-20T09:51:40.581205Z",
          "iopub.status.busy": "2023-08-20T09:51:40.580801Z",
          "iopub.status.idle": "2023-08-20T09:51:40.586539Z",
          "shell.execute_reply": "2023-08-20T09:51:40.585501Z"
        },
        "papermill": {
          "duration": 0.149496,
          "end_time": "2023-08-20T09:51:40.590282",
          "exception": false,
          "start_time": "2023-08-20T09:51:40.440786",
          "status": "completed"
        },
        "tags": [],
        "colab": {
          "base_uri": "https://localhost:8080/"
        },
        "id": "ea0e3e23",
        "outputId": "f25776cb-482d-45db-8b37-8ebc444afb2b"
      },
      "outputs": [
        {
          "output_type": "stream",
          "name": "stdout",
          "text": [
            "[4, 6, 2, 1, 5, 0, 3]\n"
          ]
        }
      ],
      "source": [
        "classes_labels = []\n",
        "for key in classes.keys():\n",
        "    classes_labels.append(key)\n",
        "\n",
        "print(classes_labels)"
      ]
    },
    {
      "cell_type": "markdown",
      "id": "df527c94",
      "metadata": {
        "papermill": {
          "duration": 0.139827,
          "end_time": "2023-08-20T09:51:40.869905",
          "exception": false,
          "start_time": "2023-08-20T09:51:40.730078",
          "status": "completed"
        },
        "tags": [],
        "id": "df527c94"
      },
      "source": [
        "**Confussion Matrix**"
      ]
    },
    {
      "cell_type": "code",
      "execution_count": null,
      "id": "01287a51",
      "metadata": {
        "execution": {
          "iopub.execute_input": "2023-08-20T09:51:41.149286Z",
          "iopub.status.busy": "2023-08-20T09:51:41.148927Z",
          "iopub.status.idle": "2023-08-20T09:51:41.789804Z",
          "shell.execute_reply": "2023-08-20T09:51:41.788729Z"
        },
        "papermill": {
          "duration": 0.783219,
          "end_time": "2023-08-20T09:51:41.792253",
          "exception": false,
          "start_time": "2023-08-20T09:51:41.009034",
          "status": "completed"
        },
        "tags": [],
        "colab": {
          "base_uri": "https://localhost:8080/",
          "height": 995
        },
        "id": "01287a51",
        "outputId": "fde25d9c-6d29-4a9d-b806-ff07206bf782"
      },
      "outputs": [
        {
          "output_type": "display_data",
          "data": {
            "text/plain": [
              "<Figure size 1000x1000 with 2 Axes>"
            ],
            "image/png": "[encoded data removed]"
          },
          "metadata": {}
        }
      ],
      "source": [
        "# Confusion matrix\n",
        "cm = cm = confusion_matrix(y_true, y_pred, labels=classes_labels)\n",
        "\n",
        "plt.figure(figsize= (10, 10))\n",
        "plt.imshow(cm, interpolation= 'nearest', cmap= plt.cm.Blues)\n",
        "plt.title('Confusion Matrix')\n",
        "plt.colorbar()\n",
        "\n",
        "tick_marks = np.arange(len(classes))\n",
        "plt.xticks(tick_marks, classes, rotation= 45)\n",
        "plt.yticks(tick_marks, classes)\n",
        "\n",
        "\n",
        "thresh = cm.max() / 2.\n",
        "for i, j in itertools.product(range(cm.shape[0]), range(cm.shape[1])):\n",
        "    plt.text(j, i, cm[i, j], horizontalalignment= 'center', color= 'white' if cm[i, j] > thresh else 'black')\n",
        "\n",
        "plt.tight_layout()\n",
        "plt.ylabel('True Label')\n",
        "plt.xlabel('Predicted Label')\n",
        "\n",
        "plt.show()"
      ]
    },
    {
      "cell_type": "code",
      "source": [
        "import numpy as np\n",
        "from sklearn.metrics import classification_report, f1_score, recall_score, precision_score\n",
        "\n",
        "# ... (Your model and training code) ...\n",
        "\n",
        "# Evaluate your model on the test data\n",
        "y_true = np.argmax(y_test, axis=1)\n",
        "y_pred = model.predict(X_test)\n",
        "y_pred_classes = np.argmax(y_pred, axis=1)\n",
        "\n",
        "# Calculate F1 score, recall, and precision\n",
        "f1 = f1_score(y_true, y_pred_classes, average='weighted')\n",
        "recall = recall_score(y_true, y_pred_classes, average='weighted')\n",
        "precision = precision_score(y_true, y_pred_classes, average='weighted')\n",
        "\n",
        "print(f\"F1 Score: {f1:.4f}\")\n",
        "print(f\"Recall: {recall:.4f}\")\n",
        "print(f\"Precision: {precision:.4f}\")"
      ],
      "metadata": {
        "colab": {
          "base_uri": "https://localhost:8080/"
        },
        "id": "_pEuW6WuvIvD",
        "outputId": "8ffb5b9b-c8b3-4d36-ff6f-aa5a97d4774c"
      },
      "id": "_pEuW6WuvIvD",
      "execution_count": null,
      "outputs": [
        {
          "output_type": "stream",
          "name": "stdout",
          "text": [
            "367/367 [==============================] - 23s 62ms/step\n",
            "F1 Score: 0.9851\n",
            "Recall: 0.9853\n",
            "Precision: 0.9855\n"
          ]
        }
      ]
    },
    {
      "cell_type": "code",
      "source": [
        "#Save the model\n",
        "model.save('Skin Cancer1.h5')"
      ],
      "metadata": {
        "id": "7JOqabHvMp1f"
      },
      "id": "7JOqabHvMp1f",
      "execution_count": null,
      "outputs": []
    }
  ],
  "metadata": {
    "kernelspec": {
      "display_name": "Python 3",
      "language": "python",
      "name": "python3"
    },
    "language_info": {
      "codemirror_mode": {
        "name": "ipython",
        "version": 3
      },
      "file_extension": ".py",
      "mimetype": "text/x-python",
      "name": "python",
      "nbconvert_exporter": "python",
      "pygments_lexer": "ipython3",
      "version": "3.10.12"
    },
    "papermill": {
      "default_parameters": {},
      "duration": 197.810856,
      "end_time": "2023-08-20T09:51:46.327131",
      "environment_variables": {},
      "exception": null,
      "input_path": "__notebook__.ipynb",
      "output_path": "__notebook__.ipynb",
      "parameters": {},
      "start_time": "2023-08-20T09:48:28.516275",
      "version": "2.4.0"
    },
    "colab": {
      "provenance": [],
      "toc_visible": true
    }
  },
  "nbformat": 4,
  "nbformat_minor": 5
}